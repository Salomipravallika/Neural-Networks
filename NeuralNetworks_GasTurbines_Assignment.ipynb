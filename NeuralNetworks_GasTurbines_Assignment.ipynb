{
 "cells": [
  {
   "cell_type": "markdown",
   "id": "b617862f",
   "metadata": {},
   "source": [
    "## Neural Networks"
   ]
  },
  {
   "cell_type": "markdown",
   "id": "15659ce3",
   "metadata": {},
   "source": [
    "##### Importing necessary libraries"
   ]
  },
  {
   "cell_type": "code",
   "execution_count": 2,
   "id": "bb35ab43",
   "metadata": {},
   "outputs": [],
   "source": [
    "import pandas as pd\n",
    "import numpy as np\n",
    "from sklearn.model_selection import GridSearchCV, KFold\n",
    "from keras.models import Sequential\n",
    "from keras.layers import Dense\n",
    "from keras.wrappers.scikit_learn import KerasClassifier\n",
    "from tensorflow.keras.optimizers import Adam\n",
    "from keras.layers import Dropout"
   ]
  },
  {
   "cell_type": "markdown",
   "id": "501cd5ee",
   "metadata": {},
   "source": [
    "##### Importing dataset"
   ]
  },
  {
   "cell_type": "code",
   "execution_count": 3,
   "id": "9e952d99",
   "metadata": {},
   "outputs": [
    {
     "data": {
      "text/html": [
       "<div>\n",
       "<style scoped>\n",
       "    .dataframe tbody tr th:only-of-type {\n",
       "        vertical-align: middle;\n",
       "    }\n",
       "\n",
       "    .dataframe tbody tr th {\n",
       "        vertical-align: top;\n",
       "    }\n",
       "\n",
       "    .dataframe thead th {\n",
       "        text-align: right;\n",
       "    }\n",
       "</style>\n",
       "<table border=\"1\" class=\"dataframe\">\n",
       "  <thead>\n",
       "    <tr style=\"text-align: right;\">\n",
       "      <th></th>\n",
       "      <th>AT</th>\n",
       "      <th>AP</th>\n",
       "      <th>AH</th>\n",
       "      <th>AFDP</th>\n",
       "      <th>GTEP</th>\n",
       "      <th>TIT</th>\n",
       "      <th>TAT</th>\n",
       "      <th>TEY</th>\n",
       "      <th>CDP</th>\n",
       "      <th>CO</th>\n",
       "      <th>NOX</th>\n",
       "    </tr>\n",
       "  </thead>\n",
       "  <tbody>\n",
       "    <tr>\n",
       "      <th>0</th>\n",
       "      <td>6.8594</td>\n",
       "      <td>1007.9</td>\n",
       "      <td>96.799</td>\n",
       "      <td>3.5000</td>\n",
       "      <td>19.663</td>\n",
       "      <td>1059.2</td>\n",
       "      <td>550.00</td>\n",
       "      <td>114.70</td>\n",
       "      <td>10.605</td>\n",
       "      <td>3.1547</td>\n",
       "      <td>82.722</td>\n",
       "    </tr>\n",
       "    <tr>\n",
       "      <th>1</th>\n",
       "      <td>6.7850</td>\n",
       "      <td>1008.4</td>\n",
       "      <td>97.118</td>\n",
       "      <td>3.4998</td>\n",
       "      <td>19.728</td>\n",
       "      <td>1059.3</td>\n",
       "      <td>550.00</td>\n",
       "      <td>114.72</td>\n",
       "      <td>10.598</td>\n",
       "      <td>3.2363</td>\n",
       "      <td>82.776</td>\n",
       "    </tr>\n",
       "    <tr>\n",
       "      <th>2</th>\n",
       "      <td>6.8977</td>\n",
       "      <td>1008.8</td>\n",
       "      <td>95.939</td>\n",
       "      <td>3.4824</td>\n",
       "      <td>19.779</td>\n",
       "      <td>1059.4</td>\n",
       "      <td>549.87</td>\n",
       "      <td>114.71</td>\n",
       "      <td>10.601</td>\n",
       "      <td>3.2012</td>\n",
       "      <td>82.468</td>\n",
       "    </tr>\n",
       "    <tr>\n",
       "      <th>3</th>\n",
       "      <td>7.0569</td>\n",
       "      <td>1009.2</td>\n",
       "      <td>95.249</td>\n",
       "      <td>3.4805</td>\n",
       "      <td>19.792</td>\n",
       "      <td>1059.6</td>\n",
       "      <td>549.99</td>\n",
       "      <td>114.72</td>\n",
       "      <td>10.606</td>\n",
       "      <td>3.1923</td>\n",
       "      <td>82.670</td>\n",
       "    </tr>\n",
       "    <tr>\n",
       "      <th>4</th>\n",
       "      <td>7.3978</td>\n",
       "      <td>1009.7</td>\n",
       "      <td>95.150</td>\n",
       "      <td>3.4976</td>\n",
       "      <td>19.765</td>\n",
       "      <td>1059.7</td>\n",
       "      <td>549.98</td>\n",
       "      <td>114.72</td>\n",
       "      <td>10.612</td>\n",
       "      <td>3.2484</td>\n",
       "      <td>82.311</td>\n",
       "    </tr>\n",
       "  </tbody>\n",
       "</table>\n",
       "</div>"
      ],
      "text/plain": [
       "       AT      AP      AH    AFDP    GTEP     TIT     TAT     TEY     CDP  \\\n",
       "0  6.8594  1007.9  96.799  3.5000  19.663  1059.2  550.00  114.70  10.605   \n",
       "1  6.7850  1008.4  97.118  3.4998  19.728  1059.3  550.00  114.72  10.598   \n",
       "2  6.8977  1008.8  95.939  3.4824  19.779  1059.4  549.87  114.71  10.601   \n",
       "3  7.0569  1009.2  95.249  3.4805  19.792  1059.6  549.99  114.72  10.606   \n",
       "4  7.3978  1009.7  95.150  3.4976  19.765  1059.7  549.98  114.72  10.612   \n",
       "\n",
       "       CO     NOX  \n",
       "0  3.1547  82.722  \n",
       "1  3.2363  82.776  \n",
       "2  3.2012  82.468  \n",
       "3  3.1923  82.670  \n",
       "4  3.2484  82.311  "
      ]
     },
     "execution_count": 3,
     "metadata": {},
     "output_type": "execute_result"
    }
   ],
   "source": [
    "df=pd.read_csv(r\"C:\\Users\\hp\\Downloads\\gas_turbines.csv\")\n",
    "df.head()"
   ]
  },
  {
   "cell_type": "markdown",
   "id": "70dd4ea1",
   "metadata": {},
   "source": [
    "##### EDA"
   ]
  },
  {
   "cell_type": "code",
   "execution_count": 4,
   "id": "0f02217b",
   "metadata": {},
   "outputs": [
    {
     "data": {
      "text/plain": [
       "AT      float64\n",
       "AP      float64\n",
       "AH      float64\n",
       "AFDP    float64\n",
       "GTEP    float64\n",
       "TIT     float64\n",
       "TAT     float64\n",
       "TEY     float64\n",
       "CDP     float64\n",
       "CO      float64\n",
       "NOX     float64\n",
       "dtype: object"
      ]
     },
     "execution_count": 4,
     "metadata": {},
     "output_type": "execute_result"
    }
   ],
   "source": [
    "df.dtypes"
   ]
  },
  {
   "cell_type": "code",
   "execution_count": 5,
   "id": "3e123b2d",
   "metadata": {},
   "outputs": [
    {
     "data": {
      "text/plain": [
       "AT      0\n",
       "AP      0\n",
       "AH      0\n",
       "AFDP    0\n",
       "GTEP    0\n",
       "TIT     0\n",
       "TAT     0\n",
       "TEY     0\n",
       "CDP     0\n",
       "CO      0\n",
       "NOX     0\n",
       "dtype: int64"
      ]
     },
     "execution_count": 5,
     "metadata": {},
     "output_type": "execute_result"
    }
   ],
   "source": [
    "df.isnull().sum()"
   ]
  },
  {
   "cell_type": "code",
   "execution_count": 6,
   "id": "1f359c5c",
   "metadata": {},
   "outputs": [
    {
     "data": {
      "text/html": [
       "<div>\n",
       "<style scoped>\n",
       "    .dataframe tbody tr th:only-of-type {\n",
       "        vertical-align: middle;\n",
       "    }\n",
       "\n",
       "    .dataframe tbody tr th {\n",
       "        vertical-align: top;\n",
       "    }\n",
       "\n",
       "    .dataframe thead th {\n",
       "        text-align: right;\n",
       "    }\n",
       "</style>\n",
       "<table border=\"1\" class=\"dataframe\">\n",
       "  <thead>\n",
       "    <tr style=\"text-align: right;\">\n",
       "      <th></th>\n",
       "      <th>AT</th>\n",
       "      <th>AP</th>\n",
       "      <th>AH</th>\n",
       "      <th>AFDP</th>\n",
       "      <th>GTEP</th>\n",
       "      <th>TIT</th>\n",
       "      <th>TAT</th>\n",
       "      <th>TEY</th>\n",
       "      <th>CDP</th>\n",
       "      <th>CO</th>\n",
       "      <th>NOX</th>\n",
       "    </tr>\n",
       "  </thead>\n",
       "  <tbody>\n",
       "    <tr>\n",
       "      <th>count</th>\n",
       "      <td>15039.000000</td>\n",
       "      <td>15039.00000</td>\n",
       "      <td>15039.000000</td>\n",
       "      <td>15039.000000</td>\n",
       "      <td>15039.000000</td>\n",
       "      <td>15039.000000</td>\n",
       "      <td>15039.000000</td>\n",
       "      <td>15039.000000</td>\n",
       "      <td>15039.000000</td>\n",
       "      <td>15039.000000</td>\n",
       "      <td>15039.000000</td>\n",
       "    </tr>\n",
       "    <tr>\n",
       "      <th>mean</th>\n",
       "      <td>17.764381</td>\n",
       "      <td>1013.19924</td>\n",
       "      <td>79.124174</td>\n",
       "      <td>4.200294</td>\n",
       "      <td>25.419061</td>\n",
       "      <td>1083.798770</td>\n",
       "      <td>545.396183</td>\n",
       "      <td>134.188464</td>\n",
       "      <td>12.102353</td>\n",
       "      <td>1.972499</td>\n",
       "      <td>68.190934</td>\n",
       "    </tr>\n",
       "    <tr>\n",
       "      <th>std</th>\n",
       "      <td>7.574323</td>\n",
       "      <td>6.41076</td>\n",
       "      <td>13.793439</td>\n",
       "      <td>0.760197</td>\n",
       "      <td>4.173916</td>\n",
       "      <td>16.527806</td>\n",
       "      <td>7.866803</td>\n",
       "      <td>15.829717</td>\n",
       "      <td>1.103196</td>\n",
       "      <td>2.222206</td>\n",
       "      <td>10.470586</td>\n",
       "    </tr>\n",
       "    <tr>\n",
       "      <th>min</th>\n",
       "      <td>0.522300</td>\n",
       "      <td>985.85000</td>\n",
       "      <td>30.344000</td>\n",
       "      <td>2.087400</td>\n",
       "      <td>17.878000</td>\n",
       "      <td>1000.800000</td>\n",
       "      <td>512.450000</td>\n",
       "      <td>100.170000</td>\n",
       "      <td>9.904400</td>\n",
       "      <td>0.000388</td>\n",
       "      <td>27.765000</td>\n",
       "    </tr>\n",
       "    <tr>\n",
       "      <th>25%</th>\n",
       "      <td>11.408000</td>\n",
       "      <td>1008.90000</td>\n",
       "      <td>69.750000</td>\n",
       "      <td>3.723900</td>\n",
       "      <td>23.294000</td>\n",
       "      <td>1079.600000</td>\n",
       "      <td>542.170000</td>\n",
       "      <td>127.985000</td>\n",
       "      <td>11.622000</td>\n",
       "      <td>0.858055</td>\n",
       "      <td>61.303500</td>\n",
       "    </tr>\n",
       "    <tr>\n",
       "      <th>50%</th>\n",
       "      <td>18.186000</td>\n",
       "      <td>1012.80000</td>\n",
       "      <td>82.266000</td>\n",
       "      <td>4.186200</td>\n",
       "      <td>25.082000</td>\n",
       "      <td>1088.700000</td>\n",
       "      <td>549.890000</td>\n",
       "      <td>133.780000</td>\n",
       "      <td>12.025000</td>\n",
       "      <td>1.390200</td>\n",
       "      <td>66.601000</td>\n",
       "    </tr>\n",
       "    <tr>\n",
       "      <th>75%</th>\n",
       "      <td>23.862500</td>\n",
       "      <td>1016.90000</td>\n",
       "      <td>90.043500</td>\n",
       "      <td>4.550900</td>\n",
       "      <td>27.184000</td>\n",
       "      <td>1096.000000</td>\n",
       "      <td>550.060000</td>\n",
       "      <td>140.895000</td>\n",
       "      <td>12.578000</td>\n",
       "      <td>2.160400</td>\n",
       "      <td>73.935500</td>\n",
       "    </tr>\n",
       "    <tr>\n",
       "      <th>max</th>\n",
       "      <td>34.929000</td>\n",
       "      <td>1034.20000</td>\n",
       "      <td>100.200000</td>\n",
       "      <td>7.610600</td>\n",
       "      <td>37.402000</td>\n",
       "      <td>1100.800000</td>\n",
       "      <td>550.610000</td>\n",
       "      <td>174.610000</td>\n",
       "      <td>15.081000</td>\n",
       "      <td>44.103000</td>\n",
       "      <td>119.890000</td>\n",
       "    </tr>\n",
       "  </tbody>\n",
       "</table>\n",
       "</div>"
      ],
      "text/plain": [
       "                 AT           AP            AH          AFDP          GTEP  \\\n",
       "count  15039.000000  15039.00000  15039.000000  15039.000000  15039.000000   \n",
       "mean      17.764381   1013.19924     79.124174      4.200294     25.419061   \n",
       "std        7.574323      6.41076     13.793439      0.760197      4.173916   \n",
       "min        0.522300    985.85000     30.344000      2.087400     17.878000   \n",
       "25%       11.408000   1008.90000     69.750000      3.723900     23.294000   \n",
       "50%       18.186000   1012.80000     82.266000      4.186200     25.082000   \n",
       "75%       23.862500   1016.90000     90.043500      4.550900     27.184000   \n",
       "max       34.929000   1034.20000    100.200000      7.610600     37.402000   \n",
       "\n",
       "                TIT           TAT           TEY           CDP            CO  \\\n",
       "count  15039.000000  15039.000000  15039.000000  15039.000000  15039.000000   \n",
       "mean    1083.798770    545.396183    134.188464     12.102353      1.972499   \n",
       "std       16.527806      7.866803     15.829717      1.103196      2.222206   \n",
       "min     1000.800000    512.450000    100.170000      9.904400      0.000388   \n",
       "25%     1079.600000    542.170000    127.985000     11.622000      0.858055   \n",
       "50%     1088.700000    549.890000    133.780000     12.025000      1.390200   \n",
       "75%     1096.000000    550.060000    140.895000     12.578000      2.160400   \n",
       "max     1100.800000    550.610000    174.610000     15.081000     44.103000   \n",
       "\n",
       "                NOX  \n",
       "count  15039.000000  \n",
       "mean      68.190934  \n",
       "std       10.470586  \n",
       "min       27.765000  \n",
       "25%       61.303500  \n",
       "50%       66.601000  \n",
       "75%       73.935500  \n",
       "max      119.890000  "
      ]
     },
     "execution_count": 6,
     "metadata": {},
     "output_type": "execute_result"
    }
   ],
   "source": [
    "df.describe()"
   ]
  },
  {
   "cell_type": "code",
   "execution_count": 7,
   "id": "585c2734",
   "metadata": {},
   "outputs": [
    {
     "data": {
      "text/plain": [
       "(15039, 11)"
      ]
     },
     "execution_count": 7,
     "metadata": {},
     "output_type": "execute_result"
    }
   ],
   "source": [
    "df.shape"
   ]
  },
  {
   "cell_type": "markdown",
   "id": "114cc487",
   "metadata": {},
   "source": [
    "##### Visualization"
   ]
  },
  {
   "cell_type": "code",
   "execution_count": 8,
   "id": "2b94ba3c",
   "metadata": {},
   "outputs": [
    {
     "data": {
      "image/png": "[encoded data removed]",
      "text/plain": [
       "<Figure size 1080x1440 with 2 Axes>"
      ]
     },
     "metadata": {
      "needs_background": "light"
     },
     "output_type": "display_data"
    }
   ],
   "source": [
    "#Visualization:\n",
    "import matplotlib.pyplot as plt\n",
    "%matplotlib inline\n",
    "import seaborn as sns\n",
    "corrmat = df.corr()\n",
    "top_corr_features = corrmat.index\n",
    "plt.figure(figsize=(15,20))\n",
    "#Plot Heat Map\n",
    "g=sns.heatmap(df[top_corr_features].corr(), annot=True, cmap='RdYlGn')"
   ]
  },
  {
   "cell_type": "code",
   "execution_count": 9,
   "id": "5d899b63",
   "metadata": {},
   "outputs": [
    {
     "data": {
      "text/plain": [
       "array([[   6.8594, 1007.9   ,   96.799 , ...,   10.605 ,    3.1547,\n",
       "          82.722 ],\n",
       "       [   6.785 , 1008.4   ,   97.118 , ...,   10.598 ,    3.2363,\n",
       "          82.776 ],\n",
       "       [   6.8977, 1008.8   ,   95.939 , ...,   10.601 ,    3.2012,\n",
       "          82.468 ],\n",
       "       ...,\n",
       "       [   7.2647, 1006.3   ,   99.496 , ...,   10.483 ,    7.9632,\n",
       "          90.912 ],\n",
       "       [   7.006 , 1006.8   ,   99.008 , ...,   10.533 ,    6.2494,\n",
       "          93.227 ],\n",
       "       [   6.9279, 1007.2   ,   97.533 , ...,   10.583 ,    4.9816,\n",
       "          92.498 ]])"
      ]
     },
     "execution_count": 9,
     "metadata": {},
     "output_type": "execute_result"
    }
   ],
   "source": [
    "gs=df.values\n",
    "gs"
   ]
  },
  {
   "cell_type": "markdown",
   "id": "dd5bf5e2",
   "metadata": {},
   "source": [
    "##### split into input (X) and output (Y) variables"
   ]
  },
  {
   "cell_type": "code",
   "execution_count": 10,
   "id": "e106eaf7",
   "metadata": {},
   "outputs": [],
   "source": [
    "X=gs[:,[0,1,2,3,4,5,6,8,9,10]]\n",
    "Y=gs[:,-4]"
   ]
  },
  {
   "cell_type": "code",
   "execution_count": 11,
   "id": "53f213bc",
   "metadata": {},
   "outputs": [
    {
     "data": {
      "text/plain": [
       "array([[   6.8594, 1007.9   ,   96.799 , ...,   10.605 ,    3.1547,\n",
       "          82.722 ],\n",
       "       [   6.785 , 1008.4   ,   97.118 , ...,   10.598 ,    3.2363,\n",
       "          82.776 ],\n",
       "       [   6.8977, 1008.8   ,   95.939 , ...,   10.601 ,    3.2012,\n",
       "          82.468 ],\n",
       "       ...,\n",
       "       [   7.2647, 1006.3   ,   99.496 , ...,   10.483 ,    7.9632,\n",
       "          90.912 ],\n",
       "       [   7.006 , 1006.8   ,   99.008 , ...,   10.533 ,    6.2494,\n",
       "          93.227 ],\n",
       "       [   6.9279, 1007.2   ,   97.533 , ...,   10.583 ,    4.9816,\n",
       "          92.498 ]])"
      ]
     },
     "execution_count": 11,
     "metadata": {},
     "output_type": "execute_result"
    }
   ],
   "source": [
    "X"
   ]
  },
  {
   "cell_type": "code",
   "execution_count": 12,
   "id": "0f9d622e",
   "metadata": {},
   "outputs": [
    {
     "data": {
      "text/plain": [
       "array([114.7 , 114.72, 114.71, ..., 110.19, 110.74, 111.58])"
      ]
     },
     "execution_count": 12,
     "metadata": {},
     "output_type": "execute_result"
    }
   ],
   "source": [
    "Y"
   ]
  },
  {
   "cell_type": "markdown",
   "id": "8fd363b4",
   "metadata": {},
   "source": [
    "##### Splitting data into train dataset and test dataset"
   ]
  },
  {
   "cell_type": "code",
   "execution_count": 13,
   "id": "42b55cbe",
   "metadata": {},
   "outputs": [],
   "source": [
    "from sklearn.model_selection import train_test_split"
   ]
  },
  {
   "cell_type": "code",
   "execution_count": 14,
   "id": "f589633b",
   "metadata": {},
   "outputs": [],
   "source": [
    "x_train, x_test, y_train, y_test = train_test_split(X,Y,test_size=0.25,random_state=101)"
   ]
  },
  {
   "cell_type": "markdown",
   "id": "fc691a46",
   "metadata": {},
   "source": [
    "##### Standardization"
   ]
  },
  {
   "cell_type": "code",
   "execution_count": 15,
   "id": "7fa1f00d",
   "metadata": {},
   "outputs": [
    {
     "data": {
      "text/plain": [
       "MinMaxScaler()"
      ]
     },
     "execution_count": 15,
     "metadata": {},
     "output_type": "execute_result"
    }
   ],
   "source": [
    "from sklearn.preprocessing import MinMaxScaler\n",
    "scaler=MinMaxScaler()\n",
    "scaler.fit(x_train)"
   ]
  },
  {
   "cell_type": "code",
   "execution_count": 16,
   "id": "35b822a3",
   "metadata": {},
   "outputs": [
    {
     "data": {
      "text/plain": [
       "array([[0.35890393, 0.40602285, 0.91801706, ..., 0.34107329, 0.03084967,\n",
       "        0.48475958],\n",
       "       [0.55162803, 0.59086189, 0.72785444, ..., 0.42819611, 0.02833486,\n",
       "        0.43366477],\n",
       "       [0.69430373, 0.53478712, 0.55215014, ..., 0.14847583, 0.15186537,\n",
       "        0.33822331],\n",
       "       ...,\n",
       "       [0.29923532, 0.48494289, 0.94876603, ..., 0.77514199, 0.00101504,\n",
       "        0.41400706],\n",
       "       [0.64399376, 0.35825545, 0.50904718, ..., 0.04705791, 0.10100297,\n",
       "        0.36756316],\n",
       "       [0.3486443 , 0.24340602, 0.81637941, ..., 0.34416412, 0.00787964,\n",
       "        0.54170062]])"
      ]
     },
     "execution_count": 16,
     "metadata": {},
     "output_type": "execute_result"
    }
   ],
   "source": [
    "x_train=scaler.transform(x_train)\n",
    "x_test=scaler.transform(x_test)\n",
    "x_test"
   ]
  },
  {
   "cell_type": "markdown",
   "id": "d44fe01a",
   "metadata": {},
   "source": [
    "##### Creating Model"
   ]
  },
  {
   "cell_type": "code",
   "execution_count": 17,
   "id": "bd25bb72",
   "metadata": {},
   "outputs": [],
   "source": [
    "model = Sequential()\n",
    "model.add(Dense(10, activation='relu'))\n",
    "model.add(Dense(10, activation='relu'))\n",
    "model.add(Dense(10, activation='relu'))\n",
    "# add nodes for prediction\n",
    "model.add(Dense(1))"
   ]
  },
  {
   "cell_type": "code",
   "execution_count": 18,
   "id": "ce0863dd",
   "metadata": {},
   "outputs": [],
   "source": [
    "model.compile(optimizer='rmsprop',loss='mse')"
   ]
  },
  {
   "cell_type": "code",
   "execution_count": 19,
   "id": "4c773399",
   "metadata": {},
   "outputs": [
    {
     "name": "stdout",
     "output_type": "stream",
     "text": [
      "Epoch 1/250\n",
      "353/353 [==============================] - 90s 34ms/step - loss: 13614.1299 1s - loss: 1531 - ETA - ETA: 0s - loss: 1388\n",
      "Epoch 2/250\n",
      "353/353 [==============================] - ETA: 0s - loss: 376.9457- ETA: 0s - loss: 3 - 13s 38ms/step - loss: 376.4852\n",
      "Epoch 3/250\n",
      "353/353 [==============================] - 11s 31ms/step - loss: 29.5914\n",
      "Epoch 4/250\n",
      "353/353 [==============================] - 12s 33ms/step - loss: 23.20748s - loss: - ETA: 8s - los - ETA: 0s - loss: 23.\n",
      "Epoch 5/250\n",
      "353/353 [==============================] - 11s 31ms/step - loss: 12.6656\n",
      "Epoch 9/250\n",
      "353/353 [==============================] - 10s 28ms/step - loss: 10.9543\n",
      "Epoch 10/250\n",
      "353/353 [==============================] - 19s 55ms/step - loss: 9.4208\n",
      "Epoch 11/250\n",
      "353/353 [==============================] - 16s 45ms/step - loss: 8.0989\n",
      "Epoch 12/250\n",
      "353/353 [==============================] - 14s 40ms/step - loss: 6.9188 1s - \n",
      "Epoch 13/250\n",
      "353/353 [==============================] - 3s 9ms/step - loss: 0.8451A: 7s - lo - ETA: 6s - lo - ETA: 2s\n",
      "Epoch 141/250\n",
      "353/353 [==============================] - 3s 9ms/step - loss: 0.8422\n",
      "Epoch 142/250\n",
      "353/353 [==============================] - 3s 10ms/step - loss: 0.8450\n",
      "Epoch 143/250\n",
      "353/353 [==============================] - 3s 9ms/step - loss: 0.8262\n",
      "Epoch 144/250\n",
      "353/353 [==============================] - 3s 9ms/step - loss: 0.8410\n",
      "Epoch 145/250\n",
      "353/353 [==============================] - 3s 9ms/step - loss: 0.8285\n",
      "Epoch 146/250\n",
      "353/353 [==============================] - ETA: 0s - loss: 0.850 - 3s 9ms/step - loss: 0.8504\n",
      "Epoch 147/250\n",
      "353/353 [==============================] - 3s 10ms/step - loss: 0.8391\n",
      "Epoch 148/250\n",
      "353/353 [==============================] - 4s 11ms/step - loss: 0.8440\n",
      "Epoch 149/250\n",
      "353/353 [==============================] - 5s 13ms/step - loss: 0.8301\n",
      "Epoch 150/250\n",
      "353/353 [==============================] - 4s 12ms/step - loss: 0.8344\n",
      "Epoch 151/250\n",
      "353/353 [==============================] - 3s 9ms/step - loss: 0.8526\n",
      "Epoch 152/250\n",
      "353/353 [==============================] - 20s 58ms/step - loss: 0.8192 2s - loss: 0.8 - ETA: 1s\n",
      "Epoch 184/250\n",
      "353/353 [==============================] - 11s 31ms/step - loss: 0.8273 2s - loss\n",
      "Epoch 185/250\n",
      "353/353 [==============================] - 8s 23ms/step - loss: 0.8263- ETA: 1s - loss - E\n",
      "Epoch 186/250\n",
      "353/353 [==============================] - 8s 23ms/step - loss: 0.8263: 6s - ETA: 6s - loss:  - ETA: 5s - \n",
      "Epoch 187/250\n",
      "353/353 [==============================] - 7s 19ms/step - loss: 0.8133\n",
      "Epoch 188/250\n",
      "353/353 [==============================] - 10s 28ms/step - loss: 0.8206\n",
      "Epoch 189/250\n",
      "353/353 [==============================] - 7s 20ms/step - loss: 0.8182\n",
      "Epoch 190/250\n",
      "353/353 [==============================] - 10s 29ms/step - loss: 0.8201 2s - ETA: 1s - l\n",
      "Epoch 191/250\n",
      "353/353 [==============================] - 15s 41ms/step - loss: 0.8309 4s \n",
      "Epoch 192/250\n",
      "353/353 [==============================] - 17s 47ms/step - loss: 0.8242 7s  - ETA: 0s -\n",
      "Epoch 193/250\n",
      "353/353 [==============================] - 12s 33ms/step - loss: 0.8253A: 1s - loss: 0. - ETA: 0s - loss: 0.8 - ETA: 0s -  - ETA: 0s - loss: 0.8\n",
      "Epoch 194/250\n",
      "353/353 [==============================] - 19s 54ms/step - loss: 0.8276\n",
      "Epoch 195/250\n",
      "353/353 [==============================] - 6s 17ms/step - loss: 0.8139: 1s - loss: 0 - ETA: 0s \n",
      "Epoch 196/250\n",
      "353/353 [==============================] - 11s 33ms/step - loss: 0.8254 12s - lo - ETA: \n",
      "Epoch 197/250\n",
      "353/353 [==============================] - ETA: 0s - loss: 0.827 - 4s 12ms/step - loss: 0.8267\n",
      "Epoch 198/250\n",
      "353/353 [==============================] - 10s 28ms/step - loss: 0.8198\n",
      "Epoch 199/250\n",
      "353/353 [==============================] - 15s 42ms/step - loss: 0.8271 1s - lo\n",
      "Epoch 200/250\n",
      "353/353 [==============================] - 12s 35ms/step - loss: 0.8185 0s - los\n",
      "Epoch 201/250\n",
      "353/353 [==============================] - 7s 19ms/step - loss: 0.8228\n",
      "Epoch 202/250\n",
      "353/353 [==============================] - 8s 24ms/step - loss: 0.8171:  - ETA: 2s - loss: 0.82 - \n",
      "Epoch 203/250\n",
      "353/353 [==============================] - 10s 29ms/step - loss: 0.8325 - ETA: 0s - loss: 0.83\n",
      "Epoch 204/250\n",
      "353/353 [==============================] - 11s 33ms/step - loss: 0.8145 \n",
      "Epoch 205/250\n",
      "353/353 [==============================] - 10s 30ms/step - loss: 0.8235 2s - los - ETA: 1s - loss: 0. - ETA: 1s - loss: 0.8 - ETA: 1s - ETA: 0s - loss: 0.8\n",
      "Epoch 206/250\n",
      "353/353 [==============================] - 7s 20ms/step - loss: 0.8080\n",
      "Epoch 207/250\n",
      "353/353 [==============================] - 6s 16ms/step - loss: 0.7994\n",
      "Epoch 208/250\n",
      "353/353 [==============================] - 6s 17ms/step - loss: 0.8224\n",
      "Epoch 209/250\n",
      "353/353 [==============================] - 5s 13ms/step - loss: 0.8246\n",
      "Epoch 210/250\n",
      "353/353 [==============================] - 11s 30ms/step - loss: 0.8231\n",
      "Epoch 216/250\n",
      "353/353 [==============================] - 12s 34ms/step - loss: 0.8257\n",
      "Epoch 217/250\n",
      "353/353 [==============================] - 10s 27ms/step - loss: 0.8169 0s  - ETA: 0s - loss: 0.\n",
      "Epoch 218/250\n",
      "353/353 [==============================] - 13s 36ms/step - loss: 0.8101\n",
      "Epoch 219/250\n",
      "353/353 [==============================] - 7s 21ms/step - loss: 0.8206:\n",
      "Epoch 220/250\n",
      "353/353 [==============================] - 7s 20ms/step - loss: 0.8059: 5s  -\n",
      "Epoch 221/250\n",
      "353/353 [==============================] - 5s 16ms/step - loss: 0.8130\n",
      "Epoch 222/250\n",
      "353/353 [==============================] - 5s 15ms/step - loss: 0.8020\n",
      "Epoch 223/250\n",
      "353/353 [==============================] - 5s 13ms/step - loss: 0.8096\n",
      "Epoch 224/250\n",
      "353/353 [==============================] - 5s 15ms/step - loss: 0.8056: 2s - loss - ETA: 1s - ETA: 0s - loss: 0.81 - ETA: 0s \n",
      "Epoch 225/250\n",
      "353/353 [==============================] - 6s 16ms/step - loss: 0.8076\n",
      "Epoch 226/250\n",
      "353/353 [==============================] - 10s 28ms/step - loss: 0.8124 1s - lo - ETA: 1s - ETA: 0s - loss: 0.81\n",
      "Epoch 227/250\n",
      "353/353 [==============================] - 10s 29ms/step - loss: 0.8083 2s - loss\n",
      "Epoch 228/250\n",
      "353/353 [==============================] - 8s 24ms/step - loss: 0.8142\n",
      "Epoch 229/250\n",
      "353/353 [==============================] - 8s 21ms/step - loss: 0.8011: 2s - ETA: 1\n",
      "Epoch 230/250\n",
      "353/353 [==============================] - 8s 23ms/step - loss: 0.8123A: 3s - loss:  - ETA: 3s -  - ETA: 2s - loss: 0.824 - E - ETA: 0s - loss:  - ETA: 0s - los\n",
      "Epoch 231/250\n",
      "353/353 [==============================] - 8s 24ms/step - loss: 0.8017\n",
      "Epoch 232/250\n",
      "353/353 [==============================] - 8s 24ms/step - loss: 0.8112: 3s - loss:  - ETA: 2s - loss:\n",
      "Epoch 233/250\n",
      "353/353 [==============================] - 9s 24ms/step - loss: 0.8055\n",
      "Epoch 234/250\n",
      "353/353 [==============================] - 9s 24ms/step - loss: 0.8215: 2s - los\n",
      "Epoch 235/250\n",
      "353/353 [==============================] - 9s 26ms/step - loss: 0.7927: 0s - loss: 0.79 - ETA: 0s - \n",
      "Epoch 236/250\n",
      "353/353 [==============================] - 9s 25ms/step - loss: 0.8075\n",
      "Epoch 237/250\n",
      "353/353 [==============================] - 10s 28ms/step - loss: 0.8088\n",
      "Epoch 238/250\n",
      "353/353 [==============================] - 19s 53ms/step - loss: 0.8134\n",
      "Epoch 239/250\n",
      "353/353 [==============================] - 5s 14ms/step - loss: 0.7983\n",
      "Epoch 240/250\n",
      "353/353 [==============================] - 6s 16ms/step - loss: 0.8056: 0s - loss: 0.8\n",
      "Epoch 241/250\n",
      "353/353 [==============================] - 6s 17ms/step - loss: 0.8027\n",
      "Epoch 242/250\n",
      "353/353 [==============================] - 6s 17ms/step - loss: 0.8081: 0s\n",
      "Epoch 243/250\n",
      "353/353 [==============================] - 5s 15ms/step - loss: 0.8155\n",
      "Epoch 244/250\n",
      "353/353 [==============================] - 6s 16ms/step - loss: 0.8057:\n",
      "Epoch 245/250\n",
      "353/353 [==============================] - 6s 17ms/step - loss: 0.8000\n",
      "Epoch 246/250\n",
      "353/353 [==============================] - 6s 17ms/step - loss: 0.8052: 6s - los - ETA: - ETA: 0s - loss: 0.7 - ETA: 0s - loss: 0.802 - ETA: 0s - loss: 0.8\n",
      "Epoch 247/250\n",
      "353/353 [==============================] - 7s 20ms/step - loss: 0.8023: 0s - lo - ETA: 0s - loss: 0.80\n",
      "Epoch 248/250\n",
      "353/353 [==============================] - 6s 18ms/step - loss: 0.8053:\n",
      "Epoch 249/250\n"
     ]
    },
    {
     "name": "stdout",
     "output_type": "stream",
     "text": [
      "353/353 [==============================] - 6s 18ms/step - loss: 0.8055- ETA: 2s - loss: 0 - ETA: 0s \n",
      "Epoch 250/250\n",
      "353/353 [==============================] - 8s 21ms/step - loss: 0.8143A:  - E - ETA: 5s - lo -\n"
     ]
    },
    {
     "data": {
      "text/plain": [
       "<keras.callbacks.History at 0x267506b29a0>"
      ]
     },
     "execution_count": 19,
     "metadata": {},
     "output_type": "execute_result"
    }
   ],
   "source": [
    "# Fit the model\n",
    "model.fit(x_train, y_train, epochs=250)"
   ]
  },
  {
   "cell_type": "code",
   "execution_count": 20,
   "id": "61932860",
   "metadata": {},
   "outputs": [
    {
     "data": {
      "text/plain": [
       "<AxesSubplot:>"
      ]
     },
     "execution_count": 20,
     "metadata": {},
     "output_type": "execute_result"
    },
    {
     "data": {
      "image/png": "[encoded data removed]",
      "text/plain": [
       "<Figure size 432x288 with 1 Axes>"
      ]
     },
     "metadata": {
      "needs_background": "light"
     },
     "output_type": "display_data"
    }
   ],
   "source": [
    "%matplotlib inline\n",
    "import matplotlib as plot\n",
    "model_loss = pd.DataFrame(model.history.history)\n",
    "model_loss.plot()"
   ]
  },
  {
   "cell_type": "markdown",
   "id": "326507f7",
   "metadata": {},
   "source": [
    "##### Model Prediction"
   ]
  },
  {
   "cell_type": "code",
   "execution_count": 21,
   "id": "ee913624",
   "metadata": {},
   "outputs": [
    {
     "data": {
      "text/plain": [
       "array([[132.51236 ],\n",
       "       [133.83617 ],\n",
       "       [111.044754],\n",
       "       ...,\n",
       "       [160.40129 ],\n",
       "       [104.50866 ],\n",
       "       [132.84798 ]], dtype=float32)"
      ]
     },
     "execution_count": 21,
     "metadata": {},
     "output_type": "execute_result"
    }
   ],
   "source": [
    "pred = model.predict(x_test)\n",
    "pred"
   ]
  },
  {
   "cell_type": "code",
   "execution_count": 23,
   "id": "8aa14042",
   "metadata": {},
   "outputs": [],
   "source": [
    "pred = pred.ravel()"
   ]
  },
  {
   "cell_type": "markdown",
   "id": "a0218c99",
   "metadata": {},
   "source": [
    "##### Accuracy and Absolute error"
   ]
  },
  {
   "cell_type": "code",
   "execution_count": 24,
   "id": "d73da857",
   "metadata": {},
   "outputs": [
    {
     "data": {
      "text/plain": [
       "0.5237094163894653"
      ]
     },
     "execution_count": 24,
     "metadata": {},
     "output_type": "execute_result"
    }
   ],
   "source": [
    "test_score = model.evaluate(x_test,y_test,verbose=0)\n",
    "test_score"
   ]
  },
  {
   "cell_type": "code",
   "execution_count": 25,
   "id": "58640e33",
   "metadata": {},
   "outputs": [],
   "source": [
    "from sklearn.metrics import mean_absolute_error,mean_squared_error"
   ]
  },
  {
   "cell_type": "code",
   "execution_count": 26,
   "id": "26094d77",
   "metadata": {},
   "outputs": [
    {
     "data": {
      "text/plain": [
       "0.5287702339659344"
      ]
     },
     "execution_count": 26,
     "metadata": {},
     "output_type": "execute_result"
    }
   ],
   "source": [
    "mean_absolute_error(pred,y_test)"
   ]
  },
  {
   "cell_type": "code",
   "execution_count": 27,
   "id": "ea370f4c",
   "metadata": {},
   "outputs": [
    {
     "data": {
      "text/plain": [
       "0.5237093546494049"
      ]
     },
     "execution_count": 27,
     "metadata": {},
     "output_type": "execute_result"
    }
   ],
   "source": [
    "mean_squared_error(pred,y_test)"
   ]
  },
  {
   "cell_type": "code",
   "execution_count": 28,
   "id": "efcbb42a",
   "metadata": {},
   "outputs": [],
   "source": [
    "import matplotlib.pyplot as plt"
   ]
  },
  {
   "cell_type": "code",
   "execution_count": 29,
   "id": "cedf9d16",
   "metadata": {},
   "outputs": [
    {
     "data": {
      "text/plain": [
       "<matplotlib.collections.PathCollection at 0x26752f0dc10>"
      ]
     },
     "execution_count": 29,
     "metadata": {},
     "output_type": "execute_result"
    },
    {
     "data": {
      "image/png": "[encoded data removed]",
      "text/plain": [
       "<Figure size 432x288 with 1 Axes>"
      ]
     },
     "metadata": {
      "needs_background": "light"
     },
     "output_type": "display_data"
    }
   ],
   "source": [
    "plt.scatter(y_test,pred)"
   ]
  },
  {
   "cell_type": "code",
   "execution_count": null,
   "id": "6c12d1da",
   "metadata": {},
   "outputs": [],
   "source": []
  }
 ],
 "metadata": {
  "kernelspec": {
   "display_name": "Python 3",
   "language": "python",
   "name": "python3"
  },
  "language_info": {
   "codemirror_mode": {
    "name": "ipython",
    "version": 3
   },
   "file_extension": ".py",
   "mimetype": "text/x-python",
   "name": "python",
   "nbconvert_exporter": "python",
   "pygments_lexer": "ipython3",
   "version": "3.8.8"
  }
 },
 "nbformat": 4,
 "nbformat_minor": 5
}
